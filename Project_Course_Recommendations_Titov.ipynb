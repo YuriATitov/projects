{
 "cells": [
  {
   "cell_type": "markdown",
   "metadata": {},
   "source": [
    "# PROJECT. Построение рекомендательной системы.\n",
    "### Цель проекта: Построить рекомендательную систему, благодаря которой можно будет предлагать клиентам интересные им курсы\n",
    "Для этого нужно выполнить следующие этапы:\n",
    "1. Подготовить необходимые данные с помощью SQL \n",
    "2. Обработать и проанализировать данные в Python\n",
    "3. Сделать датафрейм с рекомендательной системой, где каждому курсу будет предлагаться 2 рекомендации\n",
    "4. Сделать выводы и предложить дальнейшее решение\n"
   ]
  },
  {
   "cell_type": "markdown",
   "metadata": {},
   "source": [
    "## 1. Подготовка данных SQL"
   ]
  },
  {
   "cell_type": "markdown",
   "metadata": {},
   "source": [
    "На данном этапе мы должны получить таблицу с двумя столбцами: первый содержит user_id, а второй - course_id.\n",
    "Будем выводить данные только для пользователей, купивших больше 1 курса.\n",
    "Выполним следующий SQL запрос и сохраним данные в Final_Project.csv:\n",
    "\n",
    "```with user_purch as\n",
    "(\n",
    "select *\n",
    "from final.carts cs\n",
    "join final.cart_items ci\n",
    "on cs.id = ci.cart_id\n",
    "where cs.state = 'successful' and ci.resource_type = 'Course'\n",
    ")\n",
    "select\n",
    "\tup.user_id,\n",
    "\tup.resource_id course_id\n",
    "from user_purch up\n",
    "where up.user_id in \n",
    "(\n",
    "\tselect\n",
    "\tup.user_id\n",
    "\tfrom user_purch up\n",
    "\tgroup by up.user_id\n",
    "\thaving count(distinct up.resource_id) > 1\n",
    ")\n",
    "```"
   ]
  },
  {
   "cell_type": "markdown",
   "metadata": {},
   "source": [
    "## 2. Обработка и анализ в Python"
   ]
  },
  {
   "cell_type": "markdown",
   "metadata": {},
   "source": [
    "Final_Project.csv файл, полученый на предыдущем этапе будем обрабатывать с помощью Python"
   ]
  },
  {
   "cell_type": "markdown",
   "metadata": {},
   "source": [
    "### Подготовка датафрейма"
   ]
  },
  {
   "cell_type": "code",
   "execution_count": 1,
   "metadata": {},
   "outputs": [],
   "source": [
    "# Импортируем дополнительные библиотеки\n",
    "import pandas as pd\n",
    "import matplotlib.pyplot as plt\n",
    "import itertools\n",
    "from itertools import combinations"
   ]
  },
  {
   "cell_type": "code",
   "execution_count": 2,
   "metadata": {},
   "outputs": [],
   "source": [
    "# Зачитываем полученные с SQL запроса данные в датафрейм\n",
    "df = pd.read_csv('Final_Project.csv')"
   ]
  },
  {
   "cell_type": "code",
   "execution_count": 3,
   "metadata": {},
   "outputs": [
    {
     "data": {
      "text/html": [
       "<div>\n",
       "<style scoped>\n",
       "    .dataframe tbody tr th:only-of-type {\n",
       "        vertical-align: middle;\n",
       "    }\n",
       "\n",
       "    .dataframe tbody tr th {\n",
       "        vertical-align: top;\n",
       "    }\n",
       "\n",
       "    .dataframe thead th {\n",
       "        text-align: right;\n",
       "    }\n",
       "</style>\n",
       "<table border=\"1\" class=\"dataframe\">\n",
       "  <thead>\n",
       "    <tr style=\"text-align: right;\">\n",
       "      <th></th>\n",
       "      <th>user_id</th>\n",
       "      <th>course_id</th>\n",
       "    </tr>\n",
       "  </thead>\n",
       "  <tbody>\n",
       "    <tr>\n",
       "      <th>0</th>\n",
       "      <td>1010882</td>\n",
       "      <td>490</td>\n",
       "    </tr>\n",
       "    <tr>\n",
       "      <th>1</th>\n",
       "      <td>1010802</td>\n",
       "      <td>514</td>\n",
       "    </tr>\n",
       "    <tr>\n",
       "      <th>2</th>\n",
       "      <td>1120298</td>\n",
       "      <td>514</td>\n",
       "    </tr>\n",
       "    <tr>\n",
       "      <th>3</th>\n",
       "      <td>750528</td>\n",
       "      <td>552</td>\n",
       "    </tr>\n",
       "    <tr>\n",
       "      <th>4</th>\n",
       "      <td>191574</td>\n",
       "      <td>523</td>\n",
       "    </tr>\n",
       "  </tbody>\n",
       "</table>\n",
       "</div>"
      ],
      "text/plain": [
       "   user_id  course_id\n",
       "0  1010882        490\n",
       "1  1010802        514\n",
       "2  1120298        514\n",
       "3   750528        552\n",
       "4   191574        523"
      ]
     },
     "execution_count": 3,
     "metadata": {},
     "output_type": "execute_result"
    }
   ],
   "source": [
    "# Выведем первые 5 значений датафрейма\n",
    "df.head()"
   ]
  },
  {
   "cell_type": "code",
   "execution_count": 4,
   "metadata": {},
   "outputs": [
    {
     "name": "stdout",
     "output_type": "stream",
     "text": [
      "<class 'pandas.core.frame.DataFrame'>\n",
      "RangeIndex: 34172 entries, 0 to 34171\n",
      "Data columns (total 2 columns):\n",
      " #   Column     Non-Null Count  Dtype\n",
      "---  ------     --------------  -----\n",
      " 0   user_id    34172 non-null  int64\n",
      " 1   course_id  34172 non-null  int64\n",
      "dtypes: int64(2)\n",
      "memory usage: 534.1 KB\n"
     ]
    }
   ],
   "source": [
    "# Выведем информацию по данным: количество и тип данных\n",
    "df.info()"
   ]
  },
  {
   "cell_type": "code",
   "execution_count": 5,
   "metadata": {},
   "outputs": [
    {
     "data": {
      "text/plain": [
       "user_id      12656\n",
       "course_id      126\n",
       "dtype: int64"
      ]
     },
     "execution_count": 5,
     "metadata": {},
     "output_type": "execute_result"
    }
   ],
   "source": [
    "# Посчитаем количество уникальных значений для каждого столбца\n",
    "df.nunique()"
   ]
  },
  {
   "cell_type": "markdown",
   "metadata": {},
   "source": [
    "Согласно полученной таблице количество уникальных пользователей, купивших более 1 курса равно **12656**.\n",
    "Количество различных курсов - **126**\n"
   ]
  },
  {
   "cell_type": "code",
   "execution_count": 6,
   "metadata": {},
   "outputs": [],
   "source": [
    "# Отсортируем датафрейм по пользователям и курсам. Сохраним сортировку в текущем датафрейме\n",
    "df.sort_values(by = ['user_id', 'course_id'], inplace = True)"
   ]
  },
  {
   "cell_type": "code",
   "execution_count": 7,
   "metadata": {},
   "outputs": [
    {
     "data": {
      "text/html": [
       "<div>\n",
       "<style scoped>\n",
       "    .dataframe tbody tr th:only-of-type {\n",
       "        vertical-align: middle;\n",
       "    }\n",
       "\n",
       "    .dataframe tbody tr th {\n",
       "        vertical-align: top;\n",
       "    }\n",
       "\n",
       "    .dataframe thead th {\n",
       "        text-align: right;\n",
       "    }\n",
       "</style>\n",
       "<table border=\"1\" class=\"dataframe\">\n",
       "  <thead>\n",
       "    <tr style=\"text-align: right;\">\n",
       "      <th></th>\n",
       "      <th>user_id</th>\n",
       "      <th>course_id</th>\n",
       "    </tr>\n",
       "  </thead>\n",
       "  <tbody>\n",
       "    <tr>\n",
       "      <th>0</th>\n",
       "      <td>51</td>\n",
       "      <td>[516, 1099]</td>\n",
       "    </tr>\n",
       "    <tr>\n",
       "      <th>1</th>\n",
       "      <td>6117</td>\n",
       "      <td>[356, 357, 1125]</td>\n",
       "    </tr>\n",
       "    <tr>\n",
       "      <th>2</th>\n",
       "      <td>10275</td>\n",
       "      <td>[553, 1147]</td>\n",
       "    </tr>\n",
       "    <tr>\n",
       "      <th>3</th>\n",
       "      <td>10457</td>\n",
       "      <td>[361, 1138]</td>\n",
       "    </tr>\n",
       "    <tr>\n",
       "      <th>4</th>\n",
       "      <td>17166</td>\n",
       "      <td>[356, 357]</td>\n",
       "    </tr>\n",
       "  </tbody>\n",
       "</table>\n",
       "</div>"
      ],
      "text/plain": [
       "   user_id         course_id\n",
       "0       51       [516, 1099]\n",
       "1     6117  [356, 357, 1125]\n",
       "2    10275       [553, 1147]\n",
       "3    10457       [361, 1138]\n",
       "4    17166        [356, 357]"
      ]
     },
     "execution_count": 7,
     "metadata": {},
     "output_type": "execute_result"
    }
   ],
   "source": [
    "# Нам нужно построить рекомендательную систему, для этого по каждому пользователю разбиваем все покупки на пары курсов.\n",
    "# Так как возможна ситуация, когда пользователь приобрел курс несколько раз, необходимо убрать дубликаты курсов для таких пользователей.\n",
    "# Сделаем это с помощью группировки датафрейма по 'user_id' и применим метод unique(), \n",
    "# который выведет для пользоватаеля только уникальные покупки\n",
    "grouped_df = df.groupby(['user_id'])['course_id'].unique().reset_index()\n",
    "grouped_df.head()"
   ]
  },
  {
   "cell_type": "markdown",
   "metadata": {},
   "source": [
    "Получился датафрейм, в котором каждому пользователю соответсвует список купленных им курсов"
   ]
  },
  {
   "cell_type": "markdown",
   "metadata": {},
   "source": [
    "Новый датафрейм содержит уникальные значения покупок для каждого пользователя.\n",
    "Теперь мы можем по каждому пользователю получить пары курсов. Для этого мы воспользуемся функцией-итератором combinations из пакета itertools. Эта функция разобьет наш список купленных курсов на пары. Воспользумся двумя циклами: первым пройдемся по каждому пользователю, а с помощью второго каждую пару курсов запишем в новый список pair_list\n"
   ]
  },
  {
   "cell_type": "code",
   "execution_count": 8,
   "metadata": {},
   "outputs": [
    {
     "name": "stdout",
     "output_type": "stream",
     "text": [
      "[(516, 1099), (356, 357), (356, 1125), (357, 1125), (553, 1147)]\n"
     ]
    }
   ],
   "source": [
    "pair_list = []\n",
    "for i in grouped_df['course_id']:\n",
    "    for j in combinations(i,2):\n",
    "        pair_list.append(j)\n",
    "print (pair_list[0:5]) # выведем первые 5 пар"
   ]
  },
  {
   "cell_type": "code",
   "execution_count": 9,
   "metadata": {},
   "outputs": [
    {
     "data": {
      "text/plain": [
       "40017"
      ]
     },
     "execution_count": 9,
     "metadata": {},
     "output_type": "execute_result"
    }
   ],
   "source": [
    "# Посчитаем длину списка\n",
    "len(pair_list)"
   ]
  },
  {
   "cell_type": "code",
   "execution_count": 10,
   "metadata": {},
   "outputs": [
    {
     "data": {
      "text/plain": [
       "3989"
      ]
     },
     "execution_count": 10,
     "metadata": {},
     "output_type": "execute_result"
    }
   ],
   "source": [
    "# Мы можем посчитать количество уникальных пар с помощью функции set(). Для этого на вход этого метода подадим список pair_list\n",
    "# и возьмем длину len()\n",
    "len(set(pair_list))"
   ]
  },
  {
   "cell_type": "markdown",
   "metadata": {},
   "source": [
    "Итого получилось 3989 уникальных пар курсов"
   ]
  },
  {
   "cell_type": "code",
   "execution_count": 11,
   "metadata": {},
   "outputs": [
    {
     "data": {
      "text/plain": [
       "0    (516, 1099)\n",
       "1     (356, 357)\n",
       "2    (356, 1125)\n",
       "3    (357, 1125)\n",
       "4    (553, 1147)\n",
       "dtype: object"
      ]
     },
     "execution_count": 11,
     "metadata": {},
     "output_type": "execute_result"
    }
   ],
   "source": [
    "# Загрузим полученный лист в Series\n",
    "pair_series = pd.Series(pair_list)\n",
    "pair_series.head()"
   ]
  },
  {
   "cell_type": "code",
   "execution_count": 12,
   "metadata": {},
   "outputs": [
    {
     "data": {
      "text/plain": [
       "(551, 566)    797\n",
       "(515, 551)    417\n",
       "(489, 551)    311\n",
       "(523, 551)    304\n",
       "(566, 794)    290\n",
       "dtype: int64"
      ]
     },
     "execution_count": 12,
     "metadata": {},
     "output_type": "execute_result"
    }
   ],
   "source": [
    "# На следующем шаге посчитаем для каждой пары количество повторений с помощью метода value_counts().\n",
    "pair_df = pair_series.value_counts()\n",
    "pair_df.head()"
   ]
  },
  {
   "cell_type": "code",
   "execution_count": 13,
   "metadata": {},
   "outputs": [
    {
     "data": {
      "text/html": [
       "<div>\n",
       "<style scoped>\n",
       "    .dataframe tbody tr th:only-of-type {\n",
       "        vertical-align: middle;\n",
       "    }\n",
       "\n",
       "    .dataframe tbody tr th {\n",
       "        vertical-align: top;\n",
       "    }\n",
       "\n",
       "    .dataframe thead th {\n",
       "        text-align: right;\n",
       "    }\n",
       "</style>\n",
       "<table border=\"1\" class=\"dataframe\">\n",
       "  <thead>\n",
       "    <tr style=\"text-align: right;\">\n",
       "      <th></th>\n",
       "      <th>index</th>\n",
       "      <th>0</th>\n",
       "    </tr>\n",
       "  </thead>\n",
       "  <tbody>\n",
       "    <tr>\n",
       "      <th>0</th>\n",
       "      <td>(551, 566)</td>\n",
       "      <td>797</td>\n",
       "    </tr>\n",
       "    <tr>\n",
       "      <th>1</th>\n",
       "      <td>(515, 551)</td>\n",
       "      <td>417</td>\n",
       "    </tr>\n",
       "    <tr>\n",
       "      <th>2</th>\n",
       "      <td>(489, 551)</td>\n",
       "      <td>311</td>\n",
       "    </tr>\n",
       "    <tr>\n",
       "      <th>3</th>\n",
       "      <td>(523, 551)</td>\n",
       "      <td>304</td>\n",
       "    </tr>\n",
       "    <tr>\n",
       "      <th>4</th>\n",
       "      <td>(566, 794)</td>\n",
       "      <td>290</td>\n",
       "    </tr>\n",
       "    <tr>\n",
       "      <th>5</th>\n",
       "      <td>(489, 515)</td>\n",
       "      <td>286</td>\n",
       "    </tr>\n",
       "    <tr>\n",
       "      <th>6</th>\n",
       "      <td>(490, 566)</td>\n",
       "      <td>253</td>\n",
       "    </tr>\n",
       "    <tr>\n",
       "      <th>7</th>\n",
       "      <td>(570, 752)</td>\n",
       "      <td>247</td>\n",
       "    </tr>\n",
       "    <tr>\n",
       "      <th>8</th>\n",
       "      <td>(490, 551)</td>\n",
       "      <td>247</td>\n",
       "    </tr>\n",
       "    <tr>\n",
       "      <th>9</th>\n",
       "      <td>(569, 572)</td>\n",
       "      <td>216</td>\n",
       "    </tr>\n",
       "  </tbody>\n",
       "</table>\n",
       "</div>"
      ],
      "text/plain": [
       "        index    0\n",
       "0  (551, 566)  797\n",
       "1  (515, 551)  417\n",
       "2  (489, 551)  311\n",
       "3  (523, 551)  304\n",
       "4  (566, 794)  290\n",
       "5  (489, 515)  286\n",
       "6  (490, 566)  253\n",
       "7  (570, 752)  247\n",
       "8  (490, 551)  247\n",
       "9  (569, 572)  216"
      ]
     },
     "execution_count": 13,
     "metadata": {},
     "output_type": "execute_result"
    }
   ],
   "source": [
    "# Обновляем датафрейм с помощью метода reset_index. Получаем датафрейм с двумя колонками:\n",
    "# первая с парами, вторая с количеством повторений\n",
    "pair_df = pair_df.reset_index()\n",
    "pair_df.head(10)"
   ]
  },
  {
   "cell_type": "code",
   "execution_count": 14,
   "metadata": {},
   "outputs": [
    {
     "data": {
      "text/html": [
       "<div>\n",
       "<style scoped>\n",
       "    .dataframe tbody tr th:only-of-type {\n",
       "        vertical-align: middle;\n",
       "    }\n",
       "\n",
       "    .dataframe tbody tr th {\n",
       "        vertical-align: top;\n",
       "    }\n",
       "\n",
       "    .dataframe thead th {\n",
       "        text-align: right;\n",
       "    }\n",
       "</style>\n",
       "<table border=\"1\" class=\"dataframe\">\n",
       "  <thead>\n",
       "    <tr style=\"text-align: right;\">\n",
       "      <th></th>\n",
       "      <th>pair</th>\n",
       "      <th>frequency</th>\n",
       "    </tr>\n",
       "  </thead>\n",
       "  <tbody>\n",
       "    <tr>\n",
       "      <th>0</th>\n",
       "      <td>(551, 566)</td>\n",
       "      <td>797</td>\n",
       "    </tr>\n",
       "    <tr>\n",
       "      <th>1</th>\n",
       "      <td>(515, 551)</td>\n",
       "      <td>417</td>\n",
       "    </tr>\n",
       "    <tr>\n",
       "      <th>2</th>\n",
       "      <td>(489, 551)</td>\n",
       "      <td>311</td>\n",
       "    </tr>\n",
       "    <tr>\n",
       "      <th>3</th>\n",
       "      <td>(523, 551)</td>\n",
       "      <td>304</td>\n",
       "    </tr>\n",
       "    <tr>\n",
       "      <th>4</th>\n",
       "      <td>(566, 794)</td>\n",
       "      <td>290</td>\n",
       "    </tr>\n",
       "  </tbody>\n",
       "</table>\n",
       "</div>"
      ],
      "text/plain": [
       "         pair  frequency\n",
       "0  (551, 566)        797\n",
       "1  (515, 551)        417\n",
       "2  (489, 551)        311\n",
       "3  (523, 551)        304\n",
       "4  (566, 794)        290"
      ]
     },
     "execution_count": 14,
     "metadata": {},
     "output_type": "execute_result"
    }
   ],
   "source": [
    "# Переименуем колонки\n",
    "pair_df.columns = ['pair', 'frequency']\n",
    "pair_df.head()"
   ]
  },
  {
   "cell_type": "code",
   "execution_count": 15,
   "metadata": {},
   "outputs": [],
   "source": [
    "# Для удобства обработки добавим колонки first и second, в которые запишем первый элемент и второй пары соответственно\n",
    "first_elem = []\n",
    "second_elem = []\n",
    "for i in pair_df['pair']:\n",
    "    first_elem.append(i[0])\n",
    "    second_elem.append(i[1])\n",
    "pair_df['first'] = first_elem\n",
    "pair_df['second'] = second_elem"
   ]
  },
  {
   "cell_type": "markdown",
   "metadata": {},
   "source": [
    "### Aнализ датафреймa"
   ]
  },
  {
   "cell_type": "code",
   "execution_count": 16,
   "metadata": {},
   "outputs": [
    {
     "data": {
      "text/html": [
       "<div>\n",
       "<style scoped>\n",
       "    .dataframe tbody tr th:only-of-type {\n",
       "        vertical-align: middle;\n",
       "    }\n",
       "\n",
       "    .dataframe tbody tr th {\n",
       "        vertical-align: top;\n",
       "    }\n",
       "\n",
       "    .dataframe thead th {\n",
       "        text-align: right;\n",
       "    }\n",
       "</style>\n",
       "<table border=\"1\" class=\"dataframe\">\n",
       "  <thead>\n",
       "    <tr style=\"text-align: right;\">\n",
       "      <th></th>\n",
       "      <th>pair</th>\n",
       "      <th>frequency</th>\n",
       "      <th>first</th>\n",
       "      <th>second</th>\n",
       "    </tr>\n",
       "  </thead>\n",
       "  <tbody>\n",
       "    <tr>\n",
       "      <th>0</th>\n",
       "      <td>(551, 566)</td>\n",
       "      <td>797</td>\n",
       "      <td>551</td>\n",
       "      <td>566</td>\n",
       "    </tr>\n",
       "    <tr>\n",
       "      <th>1</th>\n",
       "      <td>(515, 551)</td>\n",
       "      <td>417</td>\n",
       "      <td>515</td>\n",
       "      <td>551</td>\n",
       "    </tr>\n",
       "    <tr>\n",
       "      <th>2</th>\n",
       "      <td>(489, 551)</td>\n",
       "      <td>311</td>\n",
       "      <td>489</td>\n",
       "      <td>551</td>\n",
       "    </tr>\n",
       "    <tr>\n",
       "      <th>3</th>\n",
       "      <td>(523, 551)</td>\n",
       "      <td>304</td>\n",
       "      <td>523</td>\n",
       "      <td>551</td>\n",
       "    </tr>\n",
       "    <tr>\n",
       "      <th>4</th>\n",
       "      <td>(566, 794)</td>\n",
       "      <td>290</td>\n",
       "      <td>566</td>\n",
       "      <td>794</td>\n",
       "    </tr>\n",
       "    <tr>\n",
       "      <th>...</th>\n",
       "      <td>...</td>\n",
       "      <td>...</td>\n",
       "      <td>...</td>\n",
       "      <td>...</td>\n",
       "    </tr>\n",
       "    <tr>\n",
       "      <th>3984</th>\n",
       "      <td>(362, 1102)</td>\n",
       "      <td>1</td>\n",
       "      <td>362</td>\n",
       "      <td>1102</td>\n",
       "    </tr>\n",
       "    <tr>\n",
       "      <th>3985</th>\n",
       "      <td>(836, 1101)</td>\n",
       "      <td>1</td>\n",
       "      <td>836</td>\n",
       "      <td>1101</td>\n",
       "    </tr>\n",
       "    <tr>\n",
       "      <th>3986</th>\n",
       "      <td>(563, 659)</td>\n",
       "      <td>1</td>\n",
       "      <td>563</td>\n",
       "      <td>659</td>\n",
       "    </tr>\n",
       "    <tr>\n",
       "      <th>3987</th>\n",
       "      <td>(507, 907)</td>\n",
       "      <td>1</td>\n",
       "      <td>507</td>\n",
       "      <td>907</td>\n",
       "    </tr>\n",
       "    <tr>\n",
       "      <th>3988</th>\n",
       "      <td>(507, 1140)</td>\n",
       "      <td>1</td>\n",
       "      <td>507</td>\n",
       "      <td>1140</td>\n",
       "    </tr>\n",
       "  </tbody>\n",
       "</table>\n",
       "<p>3989 rows × 4 columns</p>\n",
       "</div>"
      ],
      "text/plain": [
       "             pair  frequency  first  second\n",
       "0      (551, 566)        797    551     566\n",
       "1      (515, 551)        417    515     551\n",
       "2      (489, 551)        311    489     551\n",
       "3      (523, 551)        304    523     551\n",
       "4      (566, 794)        290    566     794\n",
       "...           ...        ...    ...     ...\n",
       "3984  (362, 1102)          1    362    1102\n",
       "3985  (836, 1101)          1    836    1101\n",
       "3986   (563, 659)          1    563     659\n",
       "3987   (507, 907)          1    507     907\n",
       "3988  (507, 1140)          1    507    1140\n",
       "\n",
       "[3989 rows x 4 columns]"
      ]
     },
     "execution_count": 16,
     "metadata": {},
     "output_type": "execute_result"
    }
   ],
   "source": [
    "pair_df"
   ]
  },
  {
   "cell_type": "markdown",
   "metadata": {},
   "source": [
    "При выводе датафрейма видно, что у нас есть самая популярная пара курсов 551/566: ее купили 797 раз. И эти курсы входят в другие популярные пары курсов. Так же видно, что есть уникальные пары, купленные только одним пользователем"
   ]
  },
  {
   "cell_type": "code",
   "execution_count": 17,
   "metadata": {},
   "outputs": [
    {
     "data": {
      "text/html": [
       "<div>\n",
       "<style scoped>\n",
       "    .dataframe tbody tr th:only-of-type {\n",
       "        vertical-align: middle;\n",
       "    }\n",
       "\n",
       "    .dataframe tbody tr th {\n",
       "        vertical-align: top;\n",
       "    }\n",
       "\n",
       "    .dataframe thead th {\n",
       "        text-align: right;\n",
       "    }\n",
       "</style>\n",
       "<table border=\"1\" class=\"dataframe\">\n",
       "  <thead>\n",
       "    <tr style=\"text-align: right;\">\n",
       "      <th></th>\n",
       "      <th>Total</th>\n",
       "    </tr>\n",
       "  </thead>\n",
       "  <tbody>\n",
       "    <tr>\n",
       "      <th>551</th>\n",
       "      <td>6074</td>\n",
       "    </tr>\n",
       "    <tr>\n",
       "      <th>566</th>\n",
       "      <td>4324</td>\n",
       "    </tr>\n",
       "    <tr>\n",
       "      <th>515</th>\n",
       "      <td>3277</td>\n",
       "    </tr>\n",
       "    <tr>\n",
       "      <th>523</th>\n",
       "      <td>3131</td>\n",
       "    </tr>\n",
       "    <tr>\n",
       "      <th>489</th>\n",
       "      <td>2928</td>\n",
       "    </tr>\n",
       "  </tbody>\n",
       "</table>\n",
       "</div>"
      ],
      "text/plain": [
       "     Total\n",
       "551   6074\n",
       "566   4324\n",
       "515   3277\n",
       "523   3131\n",
       "489   2928"
      ]
     },
     "execution_count": 17,
     "metadata": {},
     "output_type": "execute_result"
    }
   ],
   "source": [
    "# Сделаем новый датафрейм, в котором посчитаем частоту покупки по каждому курсу по всем парам, \n",
    "# и тем самым определим самые популярные курсы\n",
    "lcourses = []\n",
    "top_course = {}\n",
    "\n",
    "for i in pair_df['first']:\n",
    "    if i not in lcourses:\n",
    "        lcourses.append(i)\n",
    "for i in pair_df['second']:\n",
    "    if i not in lcourses:\n",
    "        lcourses.append(i)\n",
    "        \n",
    "for course in lcourses:\n",
    "    top_course[str(course)] = pair_df[(pair_df['first'] == course) | (pair_df['second'] == course)]['frequency'].sum()\n",
    "\n",
    "top_course_df = pd.DataFrame(top_course, index=['Total']).T   \n",
    "top_course_df.sort_values(by = ['Total'], ascending=False, inplace = True)\n",
    "top_course_df.head()"
   ]
  },
  {
   "cell_type": "markdown",
   "metadata": {},
   "source": [
    "Таким образом, **топ 5** самых популярных курсов выглядит так:\n",
    "1. Курс **551** - 6074 раз куплен в паре\n",
    "2. Курс **566** - 4324 раз куплен в паре\n",
    "3. Курс **515** - 3277 раз куплен в паре\n",
    "4. Курс **523** - 3131 раз куплен в паре\n",
    "5. Курс **489** - 2928 раз куплен в паре\n"
   ]
  },
  {
   "cell_type": "code",
   "execution_count": 18,
   "metadata": {},
   "outputs": [
    {
     "data": {
      "text/plain": [
       "pair         3989\n",
       "frequency     131\n",
       "first         117\n",
       "second        123\n",
       "dtype: int64"
      ]
     },
     "execution_count": 18,
     "metadata": {},
     "output_type": "execute_result"
    }
   ],
   "source": [
    "# Выведем уникальные значения по каждому столбцу\n",
    "pair_df.nunique()"
   ]
  },
  {
   "cell_type": "markdown",
   "metadata": {},
   "source": [
    "Количество уникальных пар у нас по-прежнему 3989. А вот по частоте уникальных значений не так много. \n",
    "Построим гистограмму распределения по частоте"
   ]
  },
  {
   "cell_type": "code",
   "execution_count": 19,
   "metadata": {},
   "outputs": [
    {
     "data": {
      "text/plain": [
       "<matplotlib.axes._subplots.AxesSubplot at 0x19f0ca9fd00>"
      ]
     },
     "execution_count": 19,
     "metadata": {},
     "output_type": "execute_result"
    },
    {
     "data": {
      "image/png": "[encoded data removed]",
      "text/plain": [
       "<Figure size 432x288 with 1 Axes>"
      ]
     },
     "metadata": {
      "needs_background": "light"
     },
     "output_type": "display_data"
    }
   ],
   "source": [
    "pair_df['frequency'].plot(kind = 'hist')"
   ]
  },
  {
   "cell_type": "markdown",
   "metadata": {},
   "source": [
    "На гистограмме видно, что основное распределение пар идет между 0 и 100. Самые популярные пары курсов, купленные больше 100 раз, практически не видны. \n",
    "Построим 5 гистограмм с более детальной разбивкой"
   ]
  },
  {
   "cell_type": "code",
   "execution_count": 20,
   "metadata": {},
   "outputs": [
    {
     "data": {
      "text/plain": [
       "Text(0.5, 1.0, 'Частота от 100')"
      ]
     },
     "execution_count": 20,
     "metadata": {},
     "output_type": "execute_result"
    },
    {
     "data": {
      "image/png": "[encoded data removed]",
      "text/plain": [
       "<Figure size 1440x432 with 5 Axes>"
      ]
     },
     "metadata": {
      "needs_background": "light"
     },
     "output_type": "display_data"
    }
   ],
   "source": [
    "fig, axes = plt.subplots(1, 5, figsize = (20, 6))\n",
    "axes[0].hist(pair_df[pair_df['frequency'] <= 25]['frequency'])\n",
    "axes[0].set_title('Частота от 0 до 25')\n",
    "axes[1].hist(pair_df[(pair_df['frequency'] > 25) & (pair_df['frequency'] <= 50)]['frequency'])\n",
    "axes[1].set_title('Частота от 25 до 50')\n",
    "axes[2].hist(pair_df[(pair_df['frequency'] > 50) & (pair_df['frequency'] <= 75)]['frequency'])\n",
    "axes[2].set_title('Частота от 50 до 75')\n",
    "axes[3].hist(pair_df[(pair_df['frequency'] > 25) & (pair_df['frequency'] <= 100)]['frequency'])\n",
    "axes[3].set_title('Частота от 75 до 100')\n",
    "axes[4].hist(pair_df[pair_df['frequency'] > 100]['frequency'])\n",
    "axes[4].set_title('Частота от 100')"
   ]
  },
  {
   "cell_type": "code",
   "execution_count": 21,
   "metadata": {},
   "outputs": [
    {
     "data": {
      "text/plain": [
       "pair         2388\n",
       "frequency    2388\n",
       "first        2388\n",
       "second       2388\n",
       "dtype: int64"
      ]
     },
     "execution_count": 21,
     "metadata": {},
     "output_type": "execute_result"
    }
   ],
   "source": [
    "pair_df[pair_df['frequency'] < 5].count()"
   ]
  },
  {
   "cell_type": "code",
   "execution_count": 22,
   "metadata": {},
   "outputs": [
    {
     "data": {
      "text/plain": [
       "pair         1185\n",
       "frequency    1185\n",
       "first        1185\n",
       "second       1185\n",
       "dtype: int64"
      ]
     },
     "execution_count": 22,
     "metadata": {},
     "output_type": "execute_result"
    }
   ],
   "source": [
    "pair_df[pair_df['frequency'] == 1].count()"
   ]
  },
  {
   "cell_type": "markdown",
   "metadata": {},
   "source": [
    "##### Вывод\n",
    "Среди 3989 пар, 2388 пары, куплены менее 5 раз, и 1185 пар, куплены только 1 раз. Следовательно, вполне вероятна ситуация, когда в процессе построения рекомендаций мы к каким-то парам не сможем найти рекомендации или курсы, которые мы будем рекомендовать покупали очень редко. К сожалению, у нас нет в базе данных данных по тематике курсов (курсы по python, java или менеджменту). В этом случае мы будем предлагать самые популярные курсы: курс 551, как рекомендация номер 1, курс 566, как рекомендация номер 2 "
   ]
  },
  {
   "cell_type": "markdown",
   "metadata": {},
   "source": [
    "### Рекомендательная система"
   ]
  },
  {
   "cell_type": "code",
   "execution_count": 23,
   "metadata": {},
   "outputs": [],
   "source": [
    "def recommendation_dict(df):\n",
    "    # Создаем пустой словарь, в котором каждому ключу будет соответствовать словарь с рекомендациями\n",
    "    recom_dict = {}\n",
    "    \n",
    "    # Создадим пустой список, в котором соберем все курсы. Потом по нему будем проходить циклом и формировать рекомендации\n",
    "    unique_course = []\n",
    "    for course in df['first']:\n",
    "        if course not in unique_course:\n",
    "            unique_course.append(course)\n",
    "    for course in df['second']:\n",
    "        if course not in unique_course:\n",
    "            unique_course.append(course)\n",
    "            \n",
    "    # Теперь пройдемся циклом по каждому курсу и заполним словарь рекомендациями  \n",
    "    for i in unique_course:\n",
    "        # Создаем словарь, в котором ключами будут рекомендация 1 и рекомендация 2\n",
    "        rec_dict = {}\n",
    "        \n",
    "        # Создаем датафрейм, в котором выведем пары по курсу, отсортируем и возьмем первые 2 строки\n",
    "        a = df[(df['first'] == i) | (df['second'] == i)].sort_values(by = ['frequency'], ascending = False).head(2)\n",
    "        \n",
    "        # добавляем условие добавления рекомендаций в словарь, если количество строк в датафрейме \"а\" больше 1\n",
    "        if a['pair'].count() > 1:\n",
    "            # Создаем рекомендацию №1\n",
    "            if a['first'].iloc[0] == i:\n",
    "                rec_dict['Recommendation_N1'] = a['second'].iloc[0]\n",
    "                rec_dict['Frequency_N1'] = a['frequency'].iloc[0]\n",
    "            else:\n",
    "                rec_dict['Recommendation_N1'] = a['first'].iloc[0]\n",
    "                rec_dict['Frequency_N1'] = a['frequency'].iloc[0]\n",
    "\n",
    "            # Создаем рекомендацию №2\n",
    "            if a['first'].iloc[1] == i:\n",
    "                rec_dict['Recommendation_N2'] = a['second'].iloc[1]\n",
    "                rec_dict['Frequency_N2'] = a['frequency'].iloc[1]\n",
    "            else:\n",
    "                rec_dict['Recommendation_N2'] = a['first'].iloc[1]\n",
    "                rec_dict['Frequency_N2'] = a['frequency'].iloc[1]\n",
    "        # Создаем ключ равный курсу и добавляем словарь с рекомендациями как его значение \n",
    "        recom_dict[i] = rec_dict\n",
    "        \n",
    "    # Сделаем проверку в получившемся словаре на отсутствие рекомендаций\n",
    "    for i in recom_dict:\n",
    "        if recom_dict[i]:\n",
    "            count = 0\n",
    "            for j in recom_dict[i]:\n",
    "                count+=1\n",
    "            if count < 4:\n",
    "                print('Для курса {} только 1 рекомендация'.format(i))\n",
    "        else:\n",
    "            print('Для курса {} не нашлось рекомендаций'.format(i))         \n",
    "    \n",
    "    return recom_dict"
   ]
  },
  {
   "cell_type": "code",
   "execution_count": 24,
   "metadata": {},
   "outputs": [],
   "source": [
    "# Применяем нашу функцию к датафрейму с парами курсов, транспонируем его и присваеваем его новому датафрейму\n",
    "final_df = pd.DataFrame(recommendation_dict(pair_df)).T"
   ]
  },
  {
   "cell_type": "code",
   "execution_count": 25,
   "metadata": {},
   "outputs": [
    {
     "name": "stdout",
     "output_type": "stream",
     "text": [
      "<class 'pandas.core.frame.DataFrame'>\n",
      "Int64Index: 126 entries, 551 to 1200\n",
      "Data columns (total 4 columns):\n",
      " #   Column             Non-Null Count  Dtype\n",
      "---  ------             --------------  -----\n",
      " 0   Recommendation_N1  126 non-null    int64\n",
      " 1   Frequency_N1       126 non-null    int64\n",
      " 2   Recommendation_N2  126 non-null    int64\n",
      " 3   Frequency_N2       126 non-null    int64\n",
      "dtypes: int64(4)\n",
      "memory usage: 4.9 KB\n"
     ]
    }
   ],
   "source": [
    "# Выведем данные и посмотрим есть ли пропуски\n",
    "final_df.info()"
   ]
  },
  {
   "cell_type": "markdown",
   "metadata": {},
   "source": [
    "В получившемся датафрейме у нас нет пропущенных значений, значит функция обработала данные успешно. Теперь посмотрим, что у нас с данными"
   ]
  },
  {
   "cell_type": "code",
   "execution_count": 26,
   "metadata": {},
   "outputs": [
    {
     "data": {
      "text/html": [
       "<div>\n",
       "<style scoped>\n",
       "    .dataframe tbody tr th:only-of-type {\n",
       "        vertical-align: middle;\n",
       "    }\n",
       "\n",
       "    .dataframe tbody tr th {\n",
       "        vertical-align: top;\n",
       "    }\n",
       "\n",
       "    .dataframe thead th {\n",
       "        text-align: right;\n",
       "    }\n",
       "</style>\n",
       "<table border=\"1\" class=\"dataframe\">\n",
       "  <thead>\n",
       "    <tr style=\"text-align: right;\">\n",
       "      <th></th>\n",
       "      <th>Frequency_N1</th>\n",
       "      <th>Frequency_N2</th>\n",
       "    </tr>\n",
       "  </thead>\n",
       "  <tbody>\n",
       "    <tr>\n",
       "      <th>count</th>\n",
       "      <td>126.000000</td>\n",
       "      <td>126.000000</td>\n",
       "    </tr>\n",
       "    <tr>\n",
       "      <th>mean</th>\n",
       "      <td>79.436508</td>\n",
       "      <td>55.595238</td>\n",
       "    </tr>\n",
       "    <tr>\n",
       "      <th>std</th>\n",
       "      <td>120.688458</td>\n",
       "      <td>71.667139</td>\n",
       "    </tr>\n",
       "    <tr>\n",
       "      <th>min</th>\n",
       "      <td>1.000000</td>\n",
       "      <td>1.000000</td>\n",
       "    </tr>\n",
       "    <tr>\n",
       "      <th>25%</th>\n",
       "      <td>16.250000</td>\n",
       "      <td>11.000000</td>\n",
       "    </tr>\n",
       "    <tr>\n",
       "      <th>50%</th>\n",
       "      <td>37.500000</td>\n",
       "      <td>27.000000</td>\n",
       "    </tr>\n",
       "    <tr>\n",
       "      <th>75%</th>\n",
       "      <td>97.250000</td>\n",
       "      <td>67.250000</td>\n",
       "    </tr>\n",
       "    <tr>\n",
       "      <th>max</th>\n",
       "      <td>797.000000</td>\n",
       "      <td>417.000000</td>\n",
       "    </tr>\n",
       "  </tbody>\n",
       "</table>\n",
       "</div>"
      ],
      "text/plain": [
       "       Frequency_N1  Frequency_N2\n",
       "count    126.000000    126.000000\n",
       "mean      79.436508     55.595238\n",
       "std      120.688458     71.667139\n",
       "min        1.000000      1.000000\n",
       "25%       16.250000     11.000000\n",
       "50%       37.500000     27.000000\n",
       "75%       97.250000     67.250000\n",
       "max      797.000000    417.000000"
      ]
     },
     "execution_count": 26,
     "metadata": {},
     "output_type": "execute_result"
    }
   ],
   "source": [
    "final_df[['Frequency_N1', 'Frequency_N2'] ].describe()"
   ]
  },
  {
   "cell_type": "code",
   "execution_count": 27,
   "metadata": {},
   "outputs": [
    {
     "data": {
      "text/plain": [
       "Text(0.5, 1.0, 'Частота курсов по рекомендации 2')"
      ]
     },
     "execution_count": 27,
     "metadata": {},
     "output_type": "execute_result"
    },
    {
     "data": {
      "image/png": "[encoded data removed]",
      "text/plain": [
       "<Figure size 1440x432 with 2 Axes>"
      ]
     },
     "metadata": {
      "needs_background": "light"
     },
     "output_type": "display_data"
    }
   ],
   "source": [
    "#final_df['Frequency_N1'].plot(kind = 'hist', color = 'Purple')\n",
    "\n",
    "fig, axes = plt.subplots(1, 2, figsize = (20, 6))\n",
    "axes[0].hist(final_df['Frequency_N1'], color = 'Purple')\n",
    "axes[0].set_title('Частота курсов по рекомендации 1', fontdict = {'fontsize': 16})\n",
    "axes[1].hist(final_df['Frequency_N2'],  color = 'Green')\n",
    "axes[1].set_title('Частота курсов по рекомендации 2', fontdict = {'fontsize': 16})"
   ]
  },
  {
   "cell_type": "markdown",
   "metadata": {},
   "source": [
    "Для обоих столбцов мы видим существенное различие медианны и среднего. Медианна в разы меньше среднего - это значит, что распределение смещено влево. 75% значений лежит в пределах от 1 до 97.25 для рекомендации 1 и от 1 до 67.25 для рекомендации 2. Самые популярные курсы находятся у нас выше третьего квартиля (Q3), мы их трогать не будем. В первом квартиле (Q1) находятся самые непопулярные пары курсов. В этом случае мы будем считать Q1 нижней границей и для всех курсов ниже (или равно) будем предлагать курс 551 в качестве рекомендации 1 и курс 566 в качестве рекомендации 2."
   ]
  },
  {
   "cell_type": "markdown",
   "metadata": {},
   "source": [
    "Итак нижняя граница для Recommendation_N1 = 16.25 и Recommendation_N2 = 11. \n",
    "Обработаем наш датафрейм и сформируем новые рекомендации для курсов с частотой меньше этих границ"
   ]
  },
  {
   "cell_type": "code",
   "execution_count": 28,
   "metadata": {},
   "outputs": [
    {
     "data": {
      "text/html": [
       "<div>\n",
       "<style scoped>\n",
       "    .dataframe tbody tr th:only-of-type {\n",
       "        vertical-align: middle;\n",
       "    }\n",
       "\n",
       "    .dataframe tbody tr th {\n",
       "        vertical-align: top;\n",
       "    }\n",
       "\n",
       "    .dataframe thead th {\n",
       "        text-align: right;\n",
       "    }\n",
       "</style>\n",
       "<table border=\"1\" class=\"dataframe\">\n",
       "  <thead>\n",
       "    <tr style=\"text-align: right;\">\n",
       "      <th></th>\n",
       "      <th>Recommendation_N1</th>\n",
       "      <th>Frequency_N1</th>\n",
       "      <th>Recommendation_N2</th>\n",
       "      <th>Frequency_N2</th>\n",
       "    </tr>\n",
       "  </thead>\n",
       "  <tbody>\n",
       "    <tr>\n",
       "      <th>362</th>\n",
       "      <td>363</td>\n",
       "      <td>18</td>\n",
       "      <td>562</td>\n",
       "      <td>8</td>\n",
       "    </tr>\n",
       "    <tr>\n",
       "      <th>359</th>\n",
       "      <td>570</td>\n",
       "      <td>16</td>\n",
       "      <td>358</td>\n",
       "      <td>15</td>\n",
       "    </tr>\n",
       "    <tr>\n",
       "      <th>1124</th>\n",
       "      <td>1128</td>\n",
       "      <td>13</td>\n",
       "      <td>908</td>\n",
       "      <td>9</td>\n",
       "    </tr>\n",
       "    <tr>\n",
       "      <th>863</th>\n",
       "      <td>908</td>\n",
       "      <td>10</td>\n",
       "      <td>1100</td>\n",
       "      <td>8</td>\n",
       "    </tr>\n",
       "    <tr>\n",
       "      <th>865</th>\n",
       "      <td>829</td>\n",
       "      <td>7</td>\n",
       "      <td>1103</td>\n",
       "      <td>6</td>\n",
       "    </tr>\n",
       "    <tr>\n",
       "      <th>1146</th>\n",
       "      <td>745</td>\n",
       "      <td>17</td>\n",
       "      <td>516</td>\n",
       "      <td>9</td>\n",
       "    </tr>\n",
       "    <tr>\n",
       "      <th>364</th>\n",
       "      <td>551</td>\n",
       "      <td>6</td>\n",
       "      <td>664</td>\n",
       "      <td>5</td>\n",
       "    </tr>\n",
       "    <tr>\n",
       "      <th>670</th>\n",
       "      <td>490</td>\n",
       "      <td>16</td>\n",
       "      <td>566</td>\n",
       "      <td>15</td>\n",
       "    </tr>\n",
       "    <tr>\n",
       "      <th>744</th>\n",
       "      <td>551</td>\n",
       "      <td>16</td>\n",
       "      <td>566</td>\n",
       "      <td>16</td>\n",
       "    </tr>\n",
       "    <tr>\n",
       "      <th>813</th>\n",
       "      <td>672</td>\n",
       "      <td>18</td>\n",
       "      <td>361</td>\n",
       "      <td>7</td>\n",
       "    </tr>\n",
       "    <tr>\n",
       "      <th>837</th>\n",
       "      <td>569</td>\n",
       "      <td>6</td>\n",
       "      <td>504</td>\n",
       "      <td>5</td>\n",
       "    </tr>\n",
       "    <tr>\n",
       "      <th>864</th>\n",
       "      <td>551</td>\n",
       "      <td>10</td>\n",
       "      <td>523</td>\n",
       "      <td>8</td>\n",
       "    </tr>\n",
       "    <tr>\n",
       "      <th>862</th>\n",
       "      <td>551</td>\n",
       "      <td>8</td>\n",
       "      <td>552</td>\n",
       "      <td>6</td>\n",
       "    </tr>\n",
       "    <tr>\n",
       "      <th>803</th>\n",
       "      <td>571</td>\n",
       "      <td>7</td>\n",
       "      <td>523</td>\n",
       "      <td>6</td>\n",
       "    </tr>\n",
       "    <tr>\n",
       "      <th>1128</th>\n",
       "      <td>1124</td>\n",
       "      <td>13</td>\n",
       "      <td>515</td>\n",
       "      <td>10</td>\n",
       "    </tr>\n",
       "  </tbody>\n",
       "</table>\n",
       "</div>"
      ],
      "text/plain": [
       "      Recommendation_N1  Frequency_N1  Recommendation_N2  Frequency_N2\n",
       "362                 363            18                562             8\n",
       "359                 570            16                358            15\n",
       "1124               1128            13                908             9\n",
       "863                 908            10               1100             8\n",
       "865                 829             7               1103             6\n",
       "1146                745            17                516             9\n",
       "364                 551             6                664             5\n",
       "670                 490            16                566            15\n",
       "744                 551            16                566            16\n",
       "813                 672            18                361             7\n",
       "837                 569             6                504             5\n",
       "864                 551            10                523             8\n",
       "862                 551             8                552             6\n",
       "803                 571             7                523             6\n",
       "1128               1124            13                515            10"
      ]
     },
     "execution_count": 28,
     "metadata": {},
     "output_type": "execute_result"
    }
   ],
   "source": [
    "# Отфильтруем датафрейм с этими границами и посмотрим на данные (возьмем первые 15 строк)\n",
    "final_df[(final_df['Frequency_N1'] < 16.5) | (final_df['Frequency_N2'] < 11)].head(15)"
   ]
  },
  {
   "cell_type": "markdown",
   "metadata": {},
   "source": [
    "Мы можем заметить, что среди рекомендаций у нас попались самые популярные курсы 551 и 566. Это нужно учесть для дальнейшей обработки. Будем их заменять 3м и 4м курсами по популярности\n",
    "Алгоритм обработки будет следующий:\n",
    "1. Если Recommendation_N1 = 551 и Recommendation_N2  566 (или наоборот) , то в рекомендации ставим курсы 3й и 4й по популярности (515 и 523 соответсвенно)\n",
    "2. Eсли Recommendation_N1 = 551 и Recommendation_N2  515 (или наоборот), то в рекомендации ставим курсы 2й и 4й по популярности (566 и 523 соответсвенно)\n",
    "3. Eсли Recommendation_N1 = 551 и Recommendation_N2  523 (или наоборот), то в рекомендации ставим курсы 2й и 3й по популярности (566 и 515 соответсвенно)\n",
    "4. Eсли Recommendation_N1 = 566 и Recommendation_N2  515 (или наоборот), то в рекомендации ставим курсы 1й и 4й по популярности (551 и 523 соответсвенно)\n",
    "6. Eсли Recommendation_N1 = 566 и Recommendation_N2  523 (или наоборот), то в рекомендации ставим курсы 1й и 3й по популярности (551 и 515 соответсвенно)\n",
    "7. В остальных случаях ставим 551 и 556\n",
    "\n",
    "Напишем функцию correct_recommendation, которая скорректирует наш датафрейм по алгоритму описанному выше\n"
   ]
  },
  {
   "cell_type": "code",
   "execution_count": 29,
   "metadata": {},
   "outputs": [],
   "source": [
    "def correct_recommendation(df):\n",
    "    for i in df.index:\n",
    "        # Создаем переменные flag, они будут показывать нужно ли менять значения в рекомендации\n",
    "        flag1 = 0\n",
    "        flag2 = 0\n",
    "        # Если значение ниже границы для рекомендации 1, то присваеваем переменной значение 1\n",
    "        if df['Frequency_N1'].loc[i] < 16.5:\n",
    "            flag1 = 1\n",
    "        if df['Frequency_N2'].loc[i] < 11:\n",
    "            flag2 = 1\n",
    "            \n",
    "        # Проверяем значения на принадлежность курсам из топ-4\n",
    "        if (df['Recommendation_N1'].loc[i] == 551 and df['Recommendation_N2'].loc[i] == 566) or (df['Recommendation_N1'].loc[i] == 566 and df['Recommendation_N2'].loc[i] == 551):\n",
    "            Rec1 = 515\n",
    "            Rec2 = 523\n",
    "        elif (df['Recommendation_N1'].loc[i] == 551 and df['Recommendation_N2'].loc[i] == 515) or (df['Recommendation_N1'].loc[i] == 515 and df['Recommendation_N2'].loc[i] == 551):\n",
    "            Rec1 = 566\n",
    "            Rec2 = 523\n",
    "        elif (df['Recommendation_N1'].loc[i] == 551 and df['Recommendation_N2'].loc[i] == 523) or (df['Recommendation_N1'].loc[i] == 523 and df['Recommendation_N2'].loc[i] == 551):\n",
    "            Rec1 = 566\n",
    "            Rec2 = 515\n",
    "        elif (df['Recommendation_N1'].loc[i] == 566 and df['Recommendation_N2'].loc[i] == 515) or (df['Recommendation_N1'].loc[i] == 515 and df['Recommendation_N2'].loc[i] == 566):\n",
    "            Rec1 = 551\n",
    "            Rec2 = 523    \n",
    "        elif (df['Recommendation_N1'].loc[i] == 566 and df['Recommendation_N2'].loc[i] == 523) or (df['Recommendation_N1'].loc[i] == 523 and df['Recommendation_N2'].loc[i] == 566):\n",
    "            Rec1 = 551\n",
    "            Rec2 = 515\n",
    "        else:\n",
    "            Rec1 = 551\n",
    "            Rec2 = 566\n",
    "            \n",
    "        # Проверяем значения флагов и присваем если условие верно новые значения\n",
    "        if flag1 == 1:\n",
    "            df['Recommendation_N1'].loc[i] = Rec1\n",
    "        if flag2 == 1:\n",
    "            df['Recommendation_N2'].loc[i] = Rec2\n",
    "    return df"
   ]
  },
  {
   "cell_type": "code",
   "execution_count": 30,
   "metadata": {},
   "outputs": [],
   "source": [
    "# Применяем функцию к датафрейму и формируем новый датафрейм с итоговыми рекомендациями\n",
    "recommend_table = correct_recommendation(final_df)[['Recommendation_N1', 'Recommendation_N2']]\n",
    "recommend_table = recommend_table.reset_index()\n",
    "recommend_table.rename(columns = {'index': 'Course'}, inplace = True)"
   ]
  },
  {
   "cell_type": "code",
   "execution_count": 31,
   "metadata": {},
   "outputs": [
    {
     "data": {
      "text/html": [
       "<div>\n",
       "<style scoped>\n",
       "    .dataframe tbody tr th:only-of-type {\n",
       "        vertical-align: middle;\n",
       "    }\n",
       "\n",
       "    .dataframe tbody tr th {\n",
       "        vertical-align: top;\n",
       "    }\n",
       "\n",
       "    .dataframe thead th {\n",
       "        text-align: right;\n",
       "    }\n",
       "</style>\n",
       "<table border=\"1\" class=\"dataframe\">\n",
       "  <thead>\n",
       "    <tr style=\"text-align: right;\">\n",
       "      <th></th>\n",
       "      <th>Course</th>\n",
       "      <th>Recommendation_N1</th>\n",
       "      <th>Recommendation_N2</th>\n",
       "    </tr>\n",
       "  </thead>\n",
       "  <tbody>\n",
       "    <tr>\n",
       "      <th>0</th>\n",
       "      <td>551</td>\n",
       "      <td>566</td>\n",
       "      <td>515</td>\n",
       "    </tr>\n",
       "    <tr>\n",
       "      <th>1</th>\n",
       "      <td>515</td>\n",
       "      <td>551</td>\n",
       "      <td>489</td>\n",
       "    </tr>\n",
       "    <tr>\n",
       "      <th>2</th>\n",
       "      <td>489</td>\n",
       "      <td>551</td>\n",
       "      <td>515</td>\n",
       "    </tr>\n",
       "    <tr>\n",
       "      <th>3</th>\n",
       "      <td>523</td>\n",
       "      <td>551</td>\n",
       "      <td>515</td>\n",
       "    </tr>\n",
       "    <tr>\n",
       "      <th>4</th>\n",
       "      <td>566</td>\n",
       "      <td>551</td>\n",
       "      <td>794</td>\n",
       "    </tr>\n",
       "    <tr>\n",
       "      <th>...</th>\n",
       "      <td>...</td>\n",
       "      <td>...</td>\n",
       "      <td>...</td>\n",
       "    </tr>\n",
       "    <tr>\n",
       "      <th>121</th>\n",
       "      <td>1199</td>\n",
       "      <td>551</td>\n",
       "      <td>566</td>\n",
       "    </tr>\n",
       "    <tr>\n",
       "      <th>122</th>\n",
       "      <td>833</td>\n",
       "      <td>551</td>\n",
       "      <td>566</td>\n",
       "    </tr>\n",
       "    <tr>\n",
       "      <th>123</th>\n",
       "      <td>1201</td>\n",
       "      <td>551</td>\n",
       "      <td>566</td>\n",
       "    </tr>\n",
       "    <tr>\n",
       "      <th>124</th>\n",
       "      <td>902</td>\n",
       "      <td>551</td>\n",
       "      <td>566</td>\n",
       "    </tr>\n",
       "    <tr>\n",
       "      <th>125</th>\n",
       "      <td>1200</td>\n",
       "      <td>551</td>\n",
       "      <td>566</td>\n",
       "    </tr>\n",
       "  </tbody>\n",
       "</table>\n",
       "<p>126 rows × 3 columns</p>\n",
       "</div>"
      ],
      "text/plain": [
       "     Course  Recommendation_N1  Recommendation_N2\n",
       "0       551                566                515\n",
       "1       515                551                489\n",
       "2       489                551                515\n",
       "3       523                551                515\n",
       "4       566                551                794\n",
       "..      ...                ...                ...\n",
       "121    1199                551                566\n",
       "122     833                551                566\n",
       "123    1201                551                566\n",
       "124     902                551                566\n",
       "125    1200                551                566\n",
       "\n",
       "[126 rows x 3 columns]"
      ]
     },
     "execution_count": 31,
     "metadata": {},
     "output_type": "execute_result"
    }
   ],
   "source": [
    "recommend_table"
   ]
  },
  {
   "cell_type": "markdown",
   "metadata": {},
   "source": [
    "## Результаты\n",
    "\n",
    "1. Данные SQL получены и обработаны в Python\n",
    "2. Сформирована таблица с рекомендациями по курсам\n",
    "\n",
    "## Предложения\n",
    "\n",
    "1. Провести А/Б тест, где одной группе будут предлагаться рекомендации курсов, и оценить ключевые метрики: конверсия, возвращаемость, средний чек и ARPU/ARPPU\n",
    "2. Ввести категоризацию курсов по тематике (Курсы по Питону, Курсы по Java, ..., и т.д.) для улучшения рекомендаций\n",
    "\n",
    "\n",
    "\n",
    "\n",
    "\n",
    "\n",
    "\n",
    "\n"
   ]
  },
  {
   "cell_type": "code",
   "execution_count": null,
   "metadata": {},
   "outputs": [],
   "source": []
  }
 ],
 "metadata": {
  "kernelspec": {
   "display_name": "Python 3",
   "language": "python",
   "name": "python3"
  },
  "language_info": {
   "codemirror_mode": {
    "name": "ipython",
    "version": 3
   },
   "file_extension": ".py",
   "mimetype": "text/x-python",
   "name": "python",
   "nbconvert_exporter": "python",
   "pygments_lexer": "ipython3",
   "version": "3.8.3"
  }
 },
 "nbformat": 4,
 "nbformat_minor": 4
}
